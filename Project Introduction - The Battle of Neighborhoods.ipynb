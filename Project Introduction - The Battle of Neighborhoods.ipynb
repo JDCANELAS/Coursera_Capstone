{
 "cells": [
  {
   "cell_type": "markdown",
   "metadata": {},
   "source": [
    "# Capstone Project - The Battle of Neighborhoods (Week 1)"
   ]
  },
  {
   "cell_type": "markdown",
   "metadata": {},
   "source": [
    "## **Business Problem:** \n",
    "XPTO It is a real estate investment company, and in 2021 it intends to invest in the construction of several housing projects.<br>\n",
    "\n",
    "![Alt text](Lisbon_Neigh.jpg)\n",
    "\n",
    "With this project we intend to help the XPTO company to choose which neighborhood has the most potential based on the distribution of various facilities available around the neighborhood. This project will use K-mean clustering unsupervised machine learning algorithm to cluster the venues based on the place category such as restaurants, parks, gyms, theaters clubs etc... In order to give a better understanding of the similarities and dissimilarities between the chosen neighborhoods to retrieve more insights and to conclude with ease which neighborhood wins over other.\n"
   ]
  },
  {
   "cell_type": "markdown",
   "metadata": {},
   "source": [
    "## **Data:**\n",
    "\n",
    "\n",
    "• Lisbon City Neighbourhoods:<br> \n",
    "Using Lisbon city neighborhoods zip codes (CSV or HTTP) to pull the Latitude and Longitude information.\n",
    "\n",
    "\n",
    "\n",
    "• Foursquare API:<br>\n",
    "Foursquare API provides the ability to perform location search, location sharing and details about a business.This feature enabled to collect the nearby places of the neighborhoods. Due to API request limitations for the free plan, the number of places per neighborhood parameter would reasonably be set to 100 and the radius parameter would be set to 500.\n",
    "\n",
    "![Alt text](Foursquare_Lisbon.JPG)\n",
    "\n"
   ]
  },
  {
   "cell_type": "markdown",
   "metadata": {},
   "source": []
  }
 ],
 "metadata": {
  "kernelspec": {
   "display_name": "Python 3.7",
   "language": "python",
   "name": "python3"
  },
  "language_info": {
   "codemirror_mode": {
    "name": "ipython",
    "version": 3
   },
   "file_extension": ".py",
   "mimetype": "text/x-python",
   "name": "python",
   "nbconvert_exporter": "python",
   "pygments_lexer": "ipython3",
   "version": "3.7.9"
  }
 },
 "nbformat": 4,
 "nbformat_minor": 2
}
